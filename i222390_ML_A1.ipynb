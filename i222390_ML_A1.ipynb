{
  "nbformat": 4,
  "nbformat_minor": 0,
  "metadata": {
    "colab": {
      "provenance": []
    },
    "kernelspec": {
      "name": "python3",
      "display_name": "Python 3"
    },
    "language_info": {
      "name": "python"
    }
  },
  "cells": [
    {
      "cell_type": "code",
      "source": [
        "import pandas as pd\n",
        "import numpy as np\n",
        "import matplotlib.pyplot as plt\n",
        "import seaborn as sns\n",
        "from sklearn.model_selection import train_test_split, cross_val_score, GridSearchCV, StratifiedShuffleSplit\n",
        "from sklearn.pipeline import Pipeline\n",
        "from sklearn.compose import ColumnTransformer\n",
        "from sklearn.preprocessing import StandardScaler, OneHotEncoder, FunctionTransformer\n",
        "from sklearn.impute import SimpleImputer\n",
        "from sklearn.linear_model import LinearRegression\n",
        "from sklearn.tree import DecisionTreeRegressor\n",
        "from sklearn.ensemble import RandomForestRegressor, GradientBoostingRegressor\n",
        "from sklearn.metrics import mean_squared_error, r2_score\n",
        "import tensorflow as tf\n",
        "from tensorflow.keras.models import Sequential\n",
        "from tensorflow.keras.layers import Dense, Dropout\n",
        "import warnings\n",
        "warnings.filterwarnings('ignore')"
      ],
      "metadata": {
        "id": "n5d3dID60A07"
      },
      "execution_count": 1,
      "outputs": []
    },
    {
      "cell_type": "code",
      "source": [
        "url = \"https://data.cityofnewyork.us/api/views/2yzn-sicd/rows.csv?accessType=DOWNLOAD\"\n",
        "df = pd.read_csv(url, nrows=2000000)"
      ],
      "metadata": {
        "id": "s02NKuNI0Dj6"
      },
      "execution_count": null,
      "outputs": []
    },
    {
      "cell_type": "code",
      "source": [
        "df['tpep_pickup_datetime'] = pd.to_datetime(df['tpep_pickup_datetime'])\n",
        "df['tpep_dropoff_datetime'] = pd.to_datetime(df['tpep_dropoff_datetime'])\n",
        "df['trip_duration'] = (df['tpep_dropoff_datetime'] - df['tpep_pickup_datetime']).dt.total_seconds()/60\n",
        "df = df[df['trip_duration'] > 0]\n",
        "df['VendorID_text'] = df['VendorID'].replace({1: 'Vendor_A', 2: 'Vendor_B'})\n",
        "df = df[['VendorID_text', 'passenger_count', 'trip_distance', 'RatecodeID', 'store_and_fwd_flag',\n",
        "         'PULocationID', 'DOLocationID', 'fare_amount', 'extra', 'mta_tax', 'tip_amount',\n",
        "         'tolls_amount', 'improvement_surcharge', 'total_amount', 'trip_duration']]\n",
        "df = df.dropna()"
      ],
      "metadata": {
        "id": "HKiiAavi0G1y"
      },
      "execution_count": null,
      "outputs": []
    },
    {
      "cell_type": "code",
      "source": [
        "plt.figure(figsize=(12,8))\n",
        "df.hist(bins=50, figsize=(15,10))\n",
        "plt.tight_layout()\n",
        "plt.show()\n",
        "\n",
        "plt.figure(figsize=(10,8))\n",
        "sns.scatterplot(x='trip_distance', y='fare_amount', data=df.sample(10000))\n",
        "plt.show()\n",
        "\n",
        "plt.figure(figsize=(12,10))\n",
        "sns.heatmap(df.corr(), annot=True, fmt=\".2f\")\n",
        "plt.show()\n",
        "\n",
        "plt.figure(figsize=(12,8))\n",
        "sns.boxplot(data=df.select_dtypes(include=[np.number]))\n",
        "plt.xticks(rotation=90)\n",
        "plt.show()"
      ],
      "metadata": {
        "id": "rswKCxZv0Jna"
      },
      "execution_count": null,
      "outputs": []
    },
    {
      "cell_type": "code",
      "source": [
        "num_features = ['passenger_count','trip_distance','fare_amount','extra','mta_tax','tip_amount','tolls_amount','improvement_surcharge','total_amount','trip_duration']\n",
        "cat_features = ['VendorID_text','RatecodeID','store_and_fwd_flag','PULocationID','DOLocationID']\n",
        "num_pipeline = Pipeline([('imputer', SimpleImputer(strategy=\"median\")),('std_scaler', StandardScaler())])\n",
        "cat_pipeline = Pipeline([('imputer', SimpleImputer(strategy=\"most_frequent\")),('onehot', OneHotEncoder(handle_unknown='ignore'))])\n",
        "full_pipeline = ColumnTransformer([(\"num\", num_pipeline, num_features),(\"cat\", cat_pipeline, cat_features)])\n",
        "df_prepared = full_pipeline.fit_transform(df)"
      ],
      "metadata": {
        "id": "Cl4ZycHT0MQ5"
      },
      "execution_count": null,
      "outputs": []
    },
    {
      "cell_type": "code",
      "source": [
        "df['trip_duration_bin'] = pd.cut(df['trip_duration'], bins=[0,5,10,20,40,80, np.inf], labels=[0,1,2,3,4,5])\n",
        "split = StratifiedShuffleSplit(n_splits=1, test_size=0.2, random_state=42)\n",
        "for train_index, test_index in split.split(df, df['trip_duration_bin']):\n",
        "    strat_train_set = df.loc[train_index]\n",
        "    strat_test_set = df.loc[test_index]\n",
        "df_train = strat_train_set.drop(\"trip_duration_bin\", axis=1)\n",
        "df_test = strat_test_set.drop(\"trip_duration_bin\", axis=1)\n",
        "X_train = full_pipeline.fit_transform(df_train)\n",
        "y_train = df_train['trip_duration'].values\n",
        "X_test = full_pipeline.transform(df_test)\n",
        "y_test = df_test['trip_duration'].values"
      ],
      "metadata": {
        "id": "FbsGf3hK0OBq"
      },
      "execution_count": null,
      "outputs": []
    },
    {
      "cell_type": "code",
      "source": [
        "models = {\n",
        "    \"LinearRegression\": LinearRegression(),\n",
        "    \"DecisionTree\": DecisionTreeRegressor(random_state=42),\n",
        "    \"RandomForest\": RandomForestRegressor(random_state=42),\n",
        "    \"GradientBoosting\": GradientBoostingRegressor(random_state=42)\n",
        "}\n",
        "cv_scores = {}\n",
        "for name, model in models.items():\n",
        "    scores = -cross_val_score(model, X_train, y_train, cv=5, scoring=\"neg_root_mean_squared_error\")\n",
        "    cv_scores[name] = np.mean(scores)\n",
        "results = pd.DataFrame(list(cv_scores.items()), columns=[\"Model\", \"CV_RMSE\"])\n",
        "print(results)"
      ],
      "metadata": {
        "id": "BvHj9irR0P9S"
      },
      "execution_count": null,
      "outputs": []
    },
    {
      "cell_type": "code",
      "source": [
        "param_grid = {\n",
        "    'n_estimators': [50, 100],\n",
        "    'max_depth': [None, 10, 20],\n",
        "    'min_samples_split': [2, 5]\n",
        "}\n",
        "grid_search = GridSearchCV(RandomForestRegressor(random_state=42), param_grid, cv=5, scoring=\"neg_root_mean_squared_error\", return_train_score=True)\n",
        "grid_search.fit(X_train, y_train)\n",
        "best_model = grid_search.best_estimator_\n",
        "print(grid_search.best_params_)"
      ],
      "metadata": {
        "id": "M0X8oNb-0R-p"
      },
      "execution_count": null,
      "outputs": []
    },
    {
      "cell_type": "code",
      "source": [
        "final_predictions = best_model.predict(X_test)\n",
        "final_rmse = mean_squared_error(y_test, final_predictions, squared=False)\n",
        "final_r2 = r2_score(y_test, final_predictions)\n",
        "print(\"Final RMSE:\", final_rmse)\n",
        "print(\"Final R2:\", final_r2)\n",
        "plt.figure(figsize=(10,6))\n",
        "plt.scatter(y_test, final_predictions, alpha=0.3)\n",
        "plt.xlabel(\"True Trip Duration\")\n",
        "plt.ylabel(\"Predicted Trip Duration\")\n",
        "plt.plot([min(y_test), max(y_test)], [min(y_test), max(y_test)], color='red')\n",
        "plt.show()"
      ],
      "metadata": {
        "id": "7AMuekuS0Toa"
      },
      "execution_count": null,
      "outputs": []
    },
    {
      "cell_type": "code",
      "source": [
        "dl_model = Sequential()\n",
        "dl_model.add(Dense(128, activation='relu', input_shape=(X_train.shape[1],)))\n",
        "dl_model.add(Dropout(0.2))\n",
        "dl_model.add(Dense(64, activation='relu'))\n",
        "dl_model.add(Dropout(0.2))\n",
        "dl_model.add(Dense(1))\n",
        "dl_model.compile(optimizer='adam', loss='mse', metrics=['mae'])\n",
        "dl_model.fit(X_train, y_train, epochs=10, batch_size=256, validation_split=0.2, verbose=0)\n",
        "dl_predictions = dl_model.predict(X_test).flatten()\n",
        "dl_rmse = mean_squared_error(y_test, dl_predictions, squared=False)\n",
        "dl_r2 = r2_score(y_test, dl_predictions)\n",
        "print(\"Deep Learning RMSE:\", dl_rmse)\n",
        "print(\"Deep Learning R2:\", dl_r2)"
      ],
      "metadata": {
        "id": "rI5vgxTm0VnK"
      },
      "execution_count": null,
      "outputs": []
    },
    {
      "cell_type": "code",
      "source": [
        "overfit_model = RandomForestRegressor(n_estimators=200, max_depth=50, random_state=42)\n",
        "X_small, _, y_small, _ = train_test_split(X_train, y_train, train_size=0.1, random_state=42)\n",
        "overfit_model.fit(X_small, y_small)\n",
        "train_pred = overfit_model.predict(X_small)\n",
        "test_pred = overfit_model.predict(X_test)\n",
        "overfit_train_rmse = mean_squared_error(y_small, train_pred, squared=False)\n",
        "overfit_test_rmse = mean_squared_error(y_test, test_pred, squared=False)\n",
        "print(\"Overfit Model - Train RMSE:\", overfit_train_rmse)\n",
        "print(\"Overfit Model - Test RMSE:\", overfit_test_rmse)"
      ],
      "metadata": {
        "id": "RmGTc0UB0XO6"
      },
      "execution_count": null,
      "outputs": []
    },
    {
      "cell_type": "code",
      "source": [
        "deployment_code = '''\n",
        "import streamlit as st\n",
        "import numpy as np\n",
        "import pickle\n",
        "st.title(\"Trip Duration Prediction\")\n",
        "uploaded_file = st.file_uploader(\"Upload CSV\", type=[\"csv\"])\n",
        "if uploaded_file is not None:\n",
        "    data = pd.read_csv(uploaded_file)\n",
        "    data_prepared = full_pipeline.transform(data)\n",
        "    prediction = best_model.predict(data_prepared)\n",
        "    st.write(\"Predicted Trip Duration (in minutes):\", prediction)\n",
        "'''\n",
        "with open(\"app.py\", \"w\") as f:\n",
        "    f.write(deployment_code)"
      ],
      "metadata": {
        "id": "v_V-C5e30bY6"
      },
      "execution_count": null,
      "outputs": []
    }
  ]
}